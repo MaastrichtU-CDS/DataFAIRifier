{
 "cells": [
  {
   "cell_type": "markdown",
   "metadata": {},
   "source": [
    "# Import Mapping"
   ]
  },
  {
   "cell_type": "code",
   "execution_count": null,
   "metadata": {},
   "outputs": [],
   "source": [
    "import ipywidgets as widgets\n",
    "mappingBox = widgets.Text(value=\"mapping.ttl\", description=\"URL of mapping file location:\", style={\"description_width\": \"initial\"})\n",
    "widgets.VBox([mappingBox])"
   ]
  },
  {
   "cell_type": "markdown",
   "metadata": {},
   "source": [
    "## Insert mapping\n",
    "Execute the code below to insert the default mapping"
   ]
  },
  {
   "cell_type": "code",
   "execution_count": null,
   "metadata": {},
   "outputs": [],
   "source": [
    "from R2RML_visualizer import R2RML_visualizer\n",
    "rmlVis = R2RML_visualizer(remoteTermEndpoint=\"http://sparql.cancerdata.org/namespace/roo/sparql\")\n",
    "\n",
    "rmlVis.loadScript(mappingBox.value)\n",
    "graph = rmlVis.plotGraph()\n",
    "graph.format = \"svg\"\n",
    "graph.render(mappingBox.value + \"_output\")\n",
    "graph"
   ]
  },
  {
   "cell_type": "code",
   "execution_count": null,
   "metadata": {},
   "outputs": [],
   "source": [
    "r2rmlStore = \"http://graphdb:7200/repositories/r2rml\"\n",
    "rmlVis.clearRemoteR2RMLStore(r2rmlStore)\n",
    "rmlVis.uploadR2RML(r2rmlStore)"
   ]
  },
  {
   "cell_type": "code",
   "execution_count": null,
   "metadata": {},
   "outputs": [],
   "source": [
    "rmlVis.uploadTermStore(\"http://graphdb:7200/repositories/ontologies\")"
   ]
  },
  {
   "cell_type": "code",
   "execution_count": null,
   "metadata": {},
   "outputs": [],
   "source": []
  },
  {
   "cell_type": "code",
   "execution_count": null,
   "metadata": {},
   "outputs": [],
   "source": []
  }
 ],
 "metadata": {
  "kernelspec": {
   "display_name": "Python 2",
   "language": "python",
   "name": "python2"
  },
  "language_info": {
   "codemirror_mode": {
    "name": "ipython",
    "version": 2
   },
   "file_extension": ".py",
   "mimetype": "text/x-python",
   "name": "python",
   "nbconvert_exporter": "python",
   "pygments_lexer": "ipython2",
   "version": "2.7.15"
  }
 },
 "nbformat": 4,
 "nbformat_minor": 2
}
